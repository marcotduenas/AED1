{
 "cells": [
  {
   "cell_type": "markdown",
   "id": "02a68498-6c73-4fca-8cbc-6f53ac506c5e",
   "metadata": {},
   "source": [
    "# AED1 - Expressões matemáticas e lógicas/Tipos de Dados"
   ]
  },
  {
   "cell_type": "code",
   "execution_count": 1,
   "id": "f2263650-2a25-4b32-b3ac-adcbae0f5a88",
   "metadata": {},
   "outputs": [
    {
     "name": "stdout",
     "output_type": "stream",
     "text": [
      "Hello World!\n"
     ]
    }
   ],
   "source": [
    "print(\"Hello World!\")"
   ]
  },
  {
   "cell_type": "code",
   "execution_count": 2,
   "id": "92a6cbd3-a0c7-4b53-8044-ff94b4a23ae5",
   "metadata": {},
   "outputs": [
    {
     "data": {
      "text/plain": [
       "10"
      ]
     },
     "execution_count": 2,
     "metadata": {},
     "output_type": "execute_result"
    }
   ],
   "source": [
    "5+5"
   ]
  },
  {
   "cell_type": "markdown",
   "id": "99a85025-426f-4f03-965c-7d87ef5f7aed",
   "metadata": {},
   "source": [
    "## Definição e impressão de variáveis"
   ]
  },
  {
   "cell_type": "code",
   "execution_count": 3,
   "id": "70e6223a-6b7f-4b5f-b64c-9188f9b0c8a7",
   "metadata": {},
   "outputs": [],
   "source": [
    "name = \"Marco\""
   ]
  },
  {
   "cell_type": "code",
   "execution_count": 4,
   "id": "259873ba-2322-4c31-b015-7232a433c6f9",
   "metadata": {},
   "outputs": [
    {
     "data": {
      "text/plain": [
       "'Marco'"
      ]
     },
     "execution_count": 4,
     "metadata": {},
     "output_type": "execute_result"
    }
   ],
   "source": [
    "name"
   ]
  },
  {
   "cell_type": "code",
   "execution_count": 5,
   "id": "98b6d07b-8179-42fc-a08b-a66a7d7ca928",
   "metadata": {},
   "outputs": [
    {
     "name": "stdout",
     "output_type": "stream",
     "text": [
      "Marco\n"
     ]
    }
   ],
   "source": [
    "print(name)"
   ]
  },
  {
   "cell_type": "markdown",
   "id": "cebfdaf3-94d4-4412-b60d-c6a0b94981d7",
   "metadata": {},
   "source": [
    "## Uso das expressõe matemáticas e lógicas"
   ]
  },
  {
   "cell_type": "code",
   "execution_count": 6,
   "id": "1f6f4ed7-74e8-4e11-840a-85e0cc53b395",
   "metadata": {},
   "outputs": [],
   "source": [
    "x = 345"
   ]
  },
  {
   "cell_type": "code",
   "execution_count": 7,
   "id": "90388c21-bdb3-4baa-ae28-3ab095811bc1",
   "metadata": {},
   "outputs": [],
   "source": [
    "y = x + 2"
   ]
  },
  {
   "cell_type": "code",
   "execution_count": 8,
   "id": "78a91b97-dd45-4d99-806c-d201181c4dac",
   "metadata": {},
   "outputs": [
    {
     "data": {
      "text/plain": [
       "347"
      ]
     },
     "execution_count": 8,
     "metadata": {},
     "output_type": "execute_result"
    }
   ],
   "source": [
    "y"
   ]
  },
  {
   "cell_type": "code",
   "execution_count": 9,
   "id": "75de6ae4-1b68-45d7-86c4-b5f9270e3db4",
   "metadata": {},
   "outputs": [
    {
     "name": "stdout",
     "output_type": "stream",
     "text": [
      "0.5\n"
     ]
    }
   ],
   "source": [
    "b = 0\n",
    "c = 0\n",
    "y = (x + b * 3)/(x * 2 + c)\n",
    "print(y)"
   ]
  },
  {
   "cell_type": "code",
   "execution_count": 10,
   "id": "0b377eef-d606-4b7b-a9f3-dec693c0a6ca",
   "metadata": {},
   "outputs": [
    {
     "data": {
      "text/plain": [
       "True"
      ]
     },
     "execution_count": 10,
     "metadata": {},
     "output_type": "execute_result"
    }
   ],
   "source": [
    "x = 3\n",
    "y = 5\n",
    "x > y\n",
    "r = y >= x\n",
    "r"
   ]
  },
  {
   "cell_type": "markdown",
   "id": "20bd020e-da93-4228-877b-06ad04eebee9",
   "metadata": {},
   "source": [
    "## Trabalhando com numerais (int e float)"
   ]
  },
  {
   "cell_type": "code",
   "execution_count": 11,
   "id": "51518291-bd0b-409d-b240-1f64dbcadbcd",
   "metadata": {},
   "outputs": [],
   "source": [
    "a = 6.9"
   ]
  },
  {
   "cell_type": "code",
   "execution_count": 12,
   "id": "6bc7b475-59fe-45b5-a9fa-ff61a5e58fba",
   "metadata": {},
   "outputs": [
    {
     "data": {
      "text/plain": [
       "float"
      ]
     },
     "execution_count": 12,
     "metadata": {},
     "output_type": "execute_result"
    }
   ],
   "source": [
    "type(a)"
   ]
  },
  {
   "cell_type": "code",
   "execution_count": 13,
   "id": "ecbf1a68-fdd7-4687-8fb6-cd5dfb48b803",
   "metadata": {},
   "outputs": [
    {
     "data": {
      "text/plain": [
       "int"
      ]
     },
     "execution_count": 13,
     "metadata": {},
     "output_type": "execute_result"
    }
   ],
   "source": [
    "x = 69\n",
    "y = 420\n",
    "type(x)\n",
    "type(y)"
   ]
  },
  {
   "cell_type": "code",
   "execution_count": 14,
   "id": "0371eb36-777a-4c22-a9d3-872bb9fd5498",
   "metadata": {},
   "outputs": [
    {
     "data": {
      "text/plain": [
       "int"
      ]
     },
     "execution_count": 14,
     "metadata": {},
     "output_type": "execute_result"
    }
   ],
   "source": [
    "sum = x + y\n",
    "type(sum)"
   ]
  },
  {
   "cell_type": "code",
   "execution_count": 15,
   "id": "d3cd9f27-99fc-4278-9fd5-d980b442a3e9",
   "metadata": {},
   "outputs": [
    {
     "name": "stdout",
     "output_type": "stream",
     "text": [
      "489\n"
     ]
    }
   ],
   "source": [
    "print(sum)"
   ]
  },
  {
   "cell_type": "code",
   "execution_count": 16,
   "id": "fecec71a-3c21-4432-ad72-e30ad3fe4737",
   "metadata": {},
   "outputs": [
    {
     "data": {
      "text/plain": [
       "0.16428571428571428"
      ]
     },
     "execution_count": 16,
     "metadata": {},
     "output_type": "execute_result"
    }
   ],
   "source": [
    "x / y"
   ]
  },
  {
   "cell_type": "code",
   "execution_count": 17,
   "id": "70c6fd75-46a8-4483-a346-3f42c3b8beee",
   "metadata": {},
   "outputs": [
    {
     "data": {
      "text/plain": [
       "0"
      ]
     },
     "execution_count": 17,
     "metadata": {},
     "output_type": "execute_result"
    }
   ],
   "source": [
    "x // y"
   ]
  },
  {
   "cell_type": "code",
   "execution_count": 18,
   "id": "08c04465-ef3c-4125-995e-cbdadec57b95",
   "metadata": {},
   "outputs": [
    {
     "data": {
      "text/plain": [
       "69"
      ]
     },
     "execution_count": 18,
     "metadata": {},
     "output_type": "execute_result"
    }
   ],
   "source": [
    "x % y"
   ]
  },
  {
   "cell_type": "code",
   "execution_count": 19,
   "id": "92a57c00-e2ba-46e9-8806-94e4a7d7c451",
   "metadata": {},
   "outputs": [],
   "source": [
    "r = 10_000_000_000"
   ]
  },
  {
   "cell_type": "code",
   "execution_count": 20,
   "id": "fe0737eb-d6c8-4565-b111-3472552f8273",
   "metadata": {},
   "outputs": [
    {
     "data": {
      "text/plain": [
       "10000000000"
      ]
     },
     "execution_count": 20,
     "metadata": {},
     "output_type": "execute_result"
    }
   ],
   "source": [
    "r"
   ]
  },
  {
   "cell_type": "code",
   "execution_count": 21,
   "id": "cc4913a9-9081-4af5-86ef-15de41177231",
   "metadata": {},
   "outputs": [],
   "source": [
    "y =  4.5"
   ]
  },
  {
   "cell_type": "code",
   "execution_count": 22,
   "id": "3459c40a-f9a9-4160-8033-5f517fbfcbbb",
   "metadata": {},
   "outputs": [
    {
     "data": {
      "text/plain": [
       "float"
      ]
     },
     "execution_count": 22,
     "metadata": {},
     "output_type": "execute_result"
    }
   ],
   "source": [
    "type(y)"
   ]
  },
  {
   "cell_type": "code",
   "execution_count": 23,
   "id": "12066b50-dd54-4a06-814a-2e67361743c5",
   "metadata": {},
   "outputs": [
    {
     "data": {
      "text/plain": [
       "float"
      ]
     },
     "execution_count": 23,
     "metadata": {},
     "output_type": "execute_result"
    }
   ],
   "source": [
    "division = x / y\n",
    "type(division)"
   ]
  },
  {
   "cell_type": "code",
   "execution_count": 24,
   "id": "4a19b286-53d8-4419-84bc-bddc9d3e4421",
   "metadata": {},
   "outputs": [
    {
     "data": {
      "text/plain": [
       "15.333333333333334"
      ]
     },
     "execution_count": 24,
     "metadata": {},
     "output_type": "execute_result"
    }
   ],
   "source": [
    "division"
   ]
  },
  {
   "cell_type": "markdown",
   "id": "48209bac-59b4-46ef-926c-517b54c45b2c",
   "metadata": {},
   "source": [
    "## Trabalhando com booleanos e lógica"
   ]
  },
  {
   "cell_type": "code",
   "execution_count": 25,
   "id": "4fe35095-7743-4ae2-9199-bdea18e89b33",
   "metadata": {},
   "outputs": [],
   "source": [
    "x = True"
   ]
  },
  {
   "cell_type": "code",
   "execution_count": 26,
   "id": "cbb74b39-aee8-4761-a37c-d81097a6c3a1",
   "metadata": {},
   "outputs": [
    {
     "data": {
      "text/plain": [
       "True"
      ]
     },
     "execution_count": 26,
     "metadata": {},
     "output_type": "execute_result"
    }
   ],
   "source": [
    "x"
   ]
  },
  {
   "cell_type": "code",
   "execution_count": 27,
   "id": "4a440ad6-fde1-423e-904d-480a0456f495",
   "metadata": {},
   "outputs": [],
   "source": [
    "y = False"
   ]
  },
  {
   "cell_type": "code",
   "execution_count": 28,
   "id": "62982699-ace2-49c6-96c1-51654d553aa5",
   "metadata": {},
   "outputs": [
    {
     "data": {
      "text/plain": [
       "False"
      ]
     },
     "execution_count": 28,
     "metadata": {},
     "output_type": "execute_result"
    }
   ],
   "source": [
    "y"
   ]
  },
  {
   "cell_type": "code",
   "execution_count": 29,
   "id": "b0116059-b7a0-4bfc-9dd3-8e1a042408a3",
   "metadata": {},
   "outputs": [
    {
     "data": {
      "text/plain": [
       "False"
      ]
     },
     "execution_count": 29,
     "metadata": {},
     "output_type": "execute_result"
    }
   ],
   "source": [
    "x and y"
   ]
  },
  {
   "cell_type": "code",
   "execution_count": 30,
   "id": "495ba083-be57-4d39-ad0e-0b62cbf2c544",
   "metadata": {},
   "outputs": [
    {
     "data": {
      "text/plain": [
       "True"
      ]
     },
     "execution_count": 30,
     "metadata": {},
     "output_type": "execute_result"
    }
   ],
   "source": [
    "x or y"
   ]
  },
  {
   "cell_type": "code",
   "execution_count": 31,
   "id": "5f5d989f-82b3-4065-81a9-89a2597b6fbf",
   "metadata": {},
   "outputs": [
    {
     "data": {
      "text/plain": [
       "False"
      ]
     },
     "execution_count": 31,
     "metadata": {},
     "output_type": "execute_result"
    }
   ],
   "source": [
    "not x"
   ]
  },
  {
   "cell_type": "code",
   "execution_count": 32,
   "id": "8022fd52-3a04-4c9a-9181-ba805393a9b3",
   "metadata": {},
   "outputs": [
    {
     "data": {
      "text/plain": [
       "False"
      ]
     },
     "execution_count": 32,
     "metadata": {},
     "output_type": "execute_result"
    }
   ],
   "source": [
    "not x and y "
   ]
  },
  {
   "cell_type": "code",
   "execution_count": 33,
   "id": "194a48f0-73d8-420b-9700-ea2aa5ad5d33",
   "metadata": {},
   "outputs": [
    {
     "data": {
      "text/plain": [
       "True"
      ]
     },
     "execution_count": 33,
     "metadata": {},
     "output_type": "execute_result"
    }
   ],
   "source": [
    "x and not y"
   ]
  },
  {
   "cell_type": "markdown",
   "id": "695a919d-59ca-42b7-87c9-cbb485fbbdd1",
   "metadata": {},
   "source": [
    "## Trabalhando com strings"
   ]
  },
  {
   "cell_type": "code",
   "execution_count": 34,
   "id": "b6d3c729-d22a-4645-9eae-8742cf553084",
   "metadata": {},
   "outputs": [],
   "source": [
    "name = 'Marco'"
   ]
  },
  {
   "cell_type": "code",
   "execution_count": 35,
   "id": "35540f1a-4ade-467b-82d5-3f5d1158fd5a",
   "metadata": {},
   "outputs": [
    {
     "data": {
      "text/plain": [
       "'Marco'"
      ]
     },
     "execution_count": 35,
     "metadata": {},
     "output_type": "execute_result"
    }
   ],
   "source": [
    "name"
   ]
  },
  {
   "cell_type": "code",
   "execution_count": 36,
   "id": "4b36b25f-46aa-40f5-83c1-53d6d7265593",
   "metadata": {},
   "outputs": [
    {
     "data": {
      "text/plain": [
       "str"
      ]
     },
     "execution_count": 36,
     "metadata": {},
     "output_type": "execute_result"
    }
   ],
   "source": [
    "type(name)"
   ]
  },
  {
   "cell_type": "code",
   "execution_count": 37,
   "id": "94a2d1af-33c6-4de8-a9da-81f607b51c91",
   "metadata": {},
   "outputs": [],
   "source": [
    "surname = 'Duenas'"
   ]
  },
  {
   "cell_type": "code",
   "execution_count": 38,
   "id": "dd689289-f056-4f8d-97b0-c346e8580136",
   "metadata": {},
   "outputs": [],
   "source": [
    "full_name = name + ' ' + surname"
   ]
  },
  {
   "cell_type": "code",
   "execution_count": 39,
   "id": "b3c95c7f-30fd-4fa4-99ae-e13e2fd628c2",
   "metadata": {},
   "outputs": [
    {
     "data": {
      "text/plain": [
       "'Marco Duenas'"
      ]
     },
     "execution_count": 39,
     "metadata": {},
     "output_type": "execute_result"
    }
   ],
   "source": [
    "full_name"
   ]
  },
  {
   "cell_type": "code",
   "execution_count": 40,
   "id": "e57a5735-e49c-4177-ad8b-04cafffacaf0",
   "metadata": {},
   "outputs": [
    {
     "data": {
      "text/plain": [
       "'MarcoMarcoMarcoMarco'"
      ]
     },
     "execution_count": 40,
     "metadata": {},
     "output_type": "execute_result"
    }
   ],
   "source": [
    "name * 4"
   ]
  },
  {
   "cell_type": "code",
   "execution_count": 41,
   "id": "f7d36cbf-ea26-44f3-99bd-695e01c23b09",
   "metadata": {},
   "outputs": [
    {
     "data": {
      "text/plain": [
       "'Marco Marco Marco Marco '"
      ]
     },
     "execution_count": 41,
     "metadata": {},
     "output_type": "execute_result"
    }
   ],
   "source": [
    "(name + ' ') * 4"
   ]
  }
 ],
 "metadata": {
  "kernelspec": {
   "display_name": "Python 3 (ipykernel)",
   "language": "python",
   "name": "python3"
  },
  "language_info": {
   "codemirror_mode": {
    "name": "ipython",
    "version": 3
   },
   "file_extension": ".py",
   "mimetype": "text/x-python",
   "name": "python",
   "nbconvert_exporter": "python",
   "pygments_lexer": "ipython3",
   "version": "3.12.4"
  }
 },
 "nbformat": 4,
 "nbformat_minor": 5
}
