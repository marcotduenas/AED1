{
 "cells": [
  {
   "cell_type": "code",
   "execution_count": 1,
   "metadata": {},
   "outputs": [
    {
     "name": "stdout",
     "output_type": "stream",
     "text": [
      "Frase normalizada: batatinha_quando_nasce\n"
     ]
    }
   ],
   "source": [
    "frase_entada = input(\"Digite uma frase: \")\n",
    "\n",
    "frase_normalizada = frase_entada.lower().replace(' ', '_')\n",
    "\n",
    "print(f\"Frase normalizada: {frase_normalizada}\")"
   ]
  },
  {
   "cell_type": "code",
   "execution_count": 14,
   "metadata": {},
   "outputs": [
    {
     "name": "stdout",
     "output_type": "stream",
     "text": [
      "[120, 300, 200]\n"
     ]
    }
   ],
   "source": [
    "vendas = [120, 85, 300, 55, 200, 95]\n",
    "\n",
    "vendas = [venda for venda in vendas if venda >= 100]\n",
    "\n",
    "print(vendas)"
   ]
  },
  {
   "cell_type": "code",
   "execution_count": 21,
   "metadata": {},
   "outputs": [
    {
     "name": "stdout",
     "output_type": "stream",
     "text": [
      "A distância média dos três pontos à origem é: 4.24\n"
     ]
    }
   ],
   "source": [
    "from math import sqrt\n",
    "\n",
    "x1 = int(input(\"Digite a coordenada x1 do ponto 1: \"))\n",
    "y1 = int(input(\"Digite a coordenada y1 do ponto 1: \"))\n",
    "x2 = int(input(\"Digite a coordenada x2 do ponto 2: \"))\n",
    "y2 = int(input(\"Digite a coordenada y2 do ponto 2: \"))\n",
    "x3 = int(input(\"Digite a coordenada x3 do ponto 3: \"))\n",
    "y3 = int(input(\"Digite a coordenada y3 do ponto 3: \"))\n",
    "\n",
    "d1 = sqrt(x1**2 + y1**2)\n",
    "d2 = sqrt(x2**2 + y2**2)\n",
    "d3 = sqrt(x3**2 + y3**2)\n",
    "\n",
    "distancia_media = (d1 + d2 + d3) / 3\n",
    "\n",
    "print(f\"A distância média dos três pontos à origem é: {distancia_media:.2f}\")\n"
   ]
  },
  {
   "cell_type": "code",
   "execution_count": 23,
   "metadata": {},
   "outputs": [
    {
     "name": "stdout",
     "output_type": "stream",
     "text": [
      "{'batatinha': 1, 'quando': 2, 'nasce': 2, 'espalha': 1, 'ramaa': 1}\n"
     ]
    }
   ],
   "source": [
    "frase = input(\"Digite uma frase: \")\n",
    "\n",
    "\n",
    "palavras = frase.split()\n",
    "\n",
    "contador_palavras = {}\n",
    "\n",
    "for palavra in palavras:\n",
    "    if palavra in contador_palavras:\n",
    "        contador_palavras[palavra] += 1\n",
    "    else:\n",
    "        contador_palavras[palavra] = 1\n",
    "\n",
    "print(contador_palavras)\n"
   ]
  }
 ],
 "metadata": {
  "kernelspec": {
   "display_name": "fatec",
   "language": "python",
   "name": "python3"
  },
  "language_info": {
   "codemirror_mode": {
    "name": "ipython",
    "version": 3
   },
   "file_extension": ".py",
   "mimetype": "text/x-python",
   "name": "python",
   "nbconvert_exporter": "python",
   "pygments_lexer": "ipython3",
   "version": "3.12.7"
  }
 },
 "nbformat": 4,
 "nbformat_minor": 2
}
