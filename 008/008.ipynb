{
 "cells": [
  {
   "cell_type": "markdown",
   "metadata": {},
   "source": [
    "# Aula 08 - Estruturas de repetição"
   ]
  },
  {
   "cell_type": "code",
   "execution_count": 1,
   "metadata": {},
   "outputs": [
    {
     "name": "stdout",
     "output_type": "stream",
     "text": [
      "A\n",
      "A\n",
      "A\n",
      "A\n",
      "A\n",
      "A\n",
      "A\n",
      "A\n",
      "A\n",
      "A\n"
     ]
    }
   ],
   "source": [
    "for _ in range(10):\n",
    "    print(\"A\")\n"
   ]
  },
  {
   "cell_type": "code",
   "execution_count": 3,
   "metadata": {},
   "outputs": [
    {
     "name": "stdout",
     "output_type": "stream",
     "text": [
      "1 x 8 =  8\n",
      "2 x 8 =  16\n",
      "3 x 8 =  24\n",
      "4 x 8 =  32\n",
      "5 x 8 =  40\n",
      "6 x 8 =  48\n",
      "7 x 8 =  56\n",
      "8 x 8 =  64\n",
      "9 x 8 =  72\n",
      "10 x 8 =  80\n"
     ]
    }
   ],
   "source": [
    "i = 1\n",
    "while(i <= 10):\n",
    "    print(i, \"x 8 = \", i * 8)\n",
    "    i += 1"
   ]
  },
  {
   "cell_type": "code",
   "execution_count": 4,
   "metadata": {},
   "outputs": [
    {
     "name": "stdout",
     "output_type": "stream",
     "text": [
      "2\n",
      "3\n",
      "4\n"
     ]
    }
   ],
   "source": [
    "tp = (2, 3, 4)\n",
    "\n",
    "for i in tp:\n",
    "    print(i)"
   ]
  },
  {
   "cell_type": "code",
   "execution_count": 6,
   "metadata": {},
   "outputs": [
    {
     "name": "stdout",
     "output_type": "stream",
     "text": [
      "E\n",
      "s\n",
      "s\n",
      "a\n",
      " \n",
      "é\n",
      " \n",
      "a\n",
      " \n",
      "m\n",
      "i\n",
      "n\n",
      "h\n",
      "a\n",
      " \n",
      "f\n",
      "r\n",
      "a\n",
      "s\n",
      "e\n"
     ]
    }
   ],
   "source": [
    "for caracter in 'Essa é a minha frase':\n",
    "    print(caracter)"
   ]
  },
  {
   "cell_type": "code",
   "execution_count": 13,
   "metadata": {},
   "outputs": [
    {
     "name": "stdout",
     "output_type": "stream",
     "text": [
      "E\n",
      "u\n",
      "o\n",
      "u\n",
      "o\n",
      "i\n",
      "a\n",
      "o\n",
      "E\n",
      "a\n",
      "e\n",
      "u\n",
      "o\n",
      "o\n",
      "e\n",
      "i\n",
      "i\n",
      "a\n",
      "e\n",
      "a\n",
      "o\n"
     ]
    }
   ],
   "source": [
    "for caracter in 'Eu vou dominar Python! E saber tudo sobre Ciência de Dados':\n",
    "    if caracter.lower() in 'aeiou':\n",
    "        print(caracter)"
   ]
  },
  {
   "cell_type": "markdown",
   "metadata": {},
   "source": [
    "# Loop For aninhado"
   ]
  },
  {
   "cell_type": "code",
   "execution_count": 17,
   "metadata": {},
   "outputs": [
    {
     "name": "stdout",
     "output_type": "stream",
     "text": [
      "\n",
      " 0\n",
      "\n",
      " 0\n",
      "\n",
      " 0\n",
      "\n",
      " 1\n",
      "\n",
      " 2\n",
      "\n",
      " 3\n",
      "\n",
      " 2\n",
      "\n",
      " 4\n",
      "\n",
      " 6\n",
      "\n",
      " 3\n",
      "\n",
      " 6\n",
      "\n",
      " 9\n",
      "\n",
      " 4\n",
      "\n",
      " 8\n",
      "\n",
      " 12\n"
     ]
    }
   ],
   "source": [
    "lista1 = [0, 1, 2, 3, 4]\n",
    "lista2 = [1, 2, 3]\n",
    "\n",
    "for elemento_lista1 in lista1:\n",
    "    for elemento_lista2 in lista2:\n",
    "        print('\\n', elemento_lista1 * elemento_lista2)"
   ]
  },
  {
   "cell_type": "code",
   "execution_count": 19,
   "metadata": {},
   "outputs": [
    {
     "name": "stdout",
     "output_type": "stream",
     "text": [
      "O número 47 foi encontrado em ambas as listas\n"
     ]
    }
   ],
   "source": [
    "lista1 = [10, 16, 24, 39, 47]\n",
    "lista2 = [32, 89, 47, 76, 12]\n",
    "\n",
    "for elemento_lista1 in lista1:\n",
    "    if elemento_lista1 == 47:\n",
    "        for elemento_lista2 in lista2:\n",
    "            if elemento_lista2 == 47:\n",
    "                print(\"O número 47 foi encontrado em ambas as listas\")"
   ]
  },
  {
   "cell_type": "code",
   "execution_count": 20,
   "metadata": {},
   "outputs": [
    {
     "name": "stdout",
     "output_type": "stream",
     "text": [
      "170\n"
     ]
    }
   ],
   "source": [
    "lista1 = [10, 16, 24, 39, 47]\n",
    "lista2 = [32, 89, 47, 76, 12]\n",
    "soma = 0\n",
    "\n",
    "lista3 = lista1 + lista2\n",
    "\n",
    "for num in lista3:\n",
    "    if num % 2 == 0:\n",
    "        soma += num\n",
    "\n",
    "print(soma)"
   ]
  },
  {
   "cell_type": "markdown",
   "metadata": {},
   "source": [
    "# While"
   ]
  },
  {
   "cell_type": "code",
   "execution_count": 21,
   "metadata": {},
   "outputs": [
    {
     "name": "stdout",
     "output_type": "stream",
     "text": [
      "0\n",
      "1\n",
      "2\n",
      "3\n",
      "4\n",
      "5\n",
      "6\n",
      "7\n",
      "8\n",
      "9\n"
     ]
    }
   ],
   "source": [
    "valor = 0\n",
    "\n",
    "while valor < 10:\n",
    "    print(valor)\n",
    "    valor += 1"
   ]
  },
  {
   "cell_type": "code",
   "execution_count": 23,
   "metadata": {},
   "outputs": [
    {
     "name": "stdout",
     "output_type": "stream",
     "text": [
      "O valor de x é: 0\n",
      "x ainda é menor que 10, somando 1 a x\n",
      "O valor de x é: 1\n",
      "x ainda é menor que 10, somando 1 a x\n",
      "O valor de x é: 2\n",
      "x ainda é menor que 10, somando 1 a x\n",
      "O valor de x é: 3\n",
      "x ainda é menor que 10, somando 1 a x\n",
      "O valor de x é: 4\n",
      "x ainda é menor que 10, somando 1 a x\n",
      "O valor de x é: 5\n",
      "x ainda é menor que 10, somando 1 a x\n",
      "O valor de x é: 6\n",
      "x ainda é menor que 10, somando 1 a x\n",
      "O valor de x é: 7\n",
      "x ainda é menor que 10, somando 1 a x\n",
      "O valor de x é: 8\n",
      "x ainda é menor que 10, somando 1 a x\n",
      "O valor de x é: 9\n",
      "x ainda é menor que 10, somando 1 a x\n",
      "Loop concluído\n",
      "10\n"
     ]
    }
   ],
   "source": [
    "x = 0\n",
    "\n",
    "while x < 10:\n",
    "    print('O valor de x é:', x)\n",
    "    print('x ainda é menor que 10, somando 1 a x')\n",
    "    x += 1\n",
    "else:\n",
    "    print('Loop concluído')\n",
    "print(x)"
   ]
  },
  {
   "cell_type": "markdown",
   "metadata": {},
   "source": [
    "# Pass, Break e Continue"
   ]
  },
  {
   "cell_type": "code",
   "execution_count": 25,
   "metadata": {},
   "outputs": [
    {
     "name": "stdout",
     "output_type": "stream",
     "text": [
      "0\n",
      "1\n",
      "2\n",
      "3\n",
      "4\n",
      "5\n"
     ]
    }
   ],
   "source": [
    "n = 0\n",
    "while True:\n",
    "    print(n)\n",
    "    n = n + 1\n",
    "    if n > 5:\n",
    "        break"
   ]
  },
  {
   "cell_type": "code",
   "execution_count": 26,
   "metadata": {},
   "outputs": [
    {
     "name": "stdout",
     "output_type": "stream",
     "text": [
      "0\n",
      "1\n",
      "2\n",
      "3\n"
     ]
    }
   ],
   "source": [
    "valor = 0\n",
    "while valor < 10:\n",
    "    if valor == 4:\n",
    "        break\n",
    "    else:\n",
    "        pass\n",
    "    print(valor)\n",
    "    valor = valor + 1"
   ]
  },
  {
   "cell_type": "code",
   "execution_count": 28,
   "metadata": {},
   "outputs": [
    {
     "name": "stdout",
     "output_type": "stream",
     "text": [
      "1\n",
      "3\n",
      "5\n",
      "7\n",
      "9\n",
      "11\n"
     ]
    }
   ],
   "source": [
    "n = 0\n",
    "\n",
    "while True:\n",
    "    if (n % 2) == 0:\n",
    "        n = n + 1\n",
    "        continue\n",
    "    print(n)\n",
    "    n = n + 1\n",
    "    if n > 10:\n",
    "        break"
   ]
  },
  {
   "cell_type": "markdown",
   "metadata": {},
   "source": [
    "# Exercícios"
   ]
  },
  {
   "cell_type": "markdown",
   "metadata": {},
   "source": [
    "1. Faça um algoritmo que leia um valor N inteiro e positivo, calcule e mostre o valor E, conforme a fórmula a seguir.\n",
    "\n",
    "    E = (2 ** 1) + (2 ** 2) + (2 ** 3) + ... + (2 ** N)\n",
    "\n",
    "Resolva com for e depois while."
   ]
  },
  {
   "cell_type": "code",
   "execution_count": 11,
   "metadata": {},
   "outputs": [
    {
     "name": "stdout",
     "output_type": "stream",
     "text": [
      "285\n"
     ]
    }
   ],
   "source": [
    "n = int(input('Qual o valor de n?'))\n",
    "i = 1\n",
    "soma = 0\n",
    "\n",
    "for i in range(n):\n",
    "    soma += i ** 2\n",
    "\n",
    "print(soma)"
   ]
  },
  {
   "cell_type": "code",
   "execution_count": 49,
   "metadata": {},
   "outputs": [
    {
     "name": "stdout",
     "output_type": "stream",
     "text": [
      "62\n"
     ]
    }
   ],
   "source": [
    "n = int(input('Qual o valor de n?'))\n",
    "e = 0\n",
    "\n",
    "for i in range(1, n+1):\n",
    "    e += (2 ** i)\n",
    "print(f'{e}')"
   ]
  },
  {
   "cell_type": "code",
   "execution_count": 4,
   "metadata": {},
   "outputs": [
    {
     "name": "stdout",
     "output_type": "stream",
     "text": [
      "62\n"
     ]
    }
   ],
   "source": [
    "n = int(input('Qual o valor de n?'))\n",
    "e = 0\n",
    "i = 1\n",
    "\n",
    "while i <= n:\n",
    "    e += 2 ** i\n",
    "    i += 1\n",
    "print(f'{e}')"
   ]
  },
  {
   "cell_type": "code",
   "execution_count": 12,
   "metadata": {},
   "outputs": [
    {
     "name": "stdout",
     "output_type": "stream",
     "text": [
      "62\n"
     ]
    }
   ],
   "source": [
    "n = int(input('Qual o valor de n?'))\n",
    "e = 0\n",
    "i = 1\n",
    "\n",
    "while True:\n",
    "\n",
    "    if i > n:\n",
    "        break\n",
    "\n",
    "    e += 2 ** i\n",
    "    i += 1\n",
    "\n",
    "print(f'{e}')"
   ]
  },
  {
   "cell_type": "markdown",
   "metadata": {},
   "source": [
    "2. Faça um algoritmo que leia o valor do peso e da altura de 5 pessoas. Ao final, o algoritmo deve mostrar:\n",
    "- O peso médio\n",
    "- A altura média\n",
    "- O maior e o menor IMC\n",
    "\n",
    "Obs: IMC (Índice de Massa Corporal) – calculado a partir da fórmula:    `IMC = massa / (altura * altura)`\n"
   ]
  },
  {
   "cell_type": "code",
   "execution_count": 19,
   "metadata": {},
   "outputs": [
    {
     "name": "stdout",
     "output_type": "stream",
     "text": [
      "Média de peso:  75.2\n",
      "Média de altura:  1.736\n",
      "Maior e menor IMCs:  32.2707877657858 23.03875236294896\n"
     ]
    }
   ],
   "source": [
    "altura = 0\n",
    "peso = 0\n",
    "valor_maior_imc = 0\n",
    "valor_menor_imc = 0\n",
    "imc_atual = 0\n",
    "media_imc = 0\n",
    "media_altura = 0\n",
    "media_peso = 0\n",
    "\n",
    "for i in range(1,6):\n",
    "    altura = float(input(f'Digite altura da pessoa {i}: '))\n",
    "    peso = float(input(f'Digite o peso da pessoa {i} em quilos: '))\n",
    "\n",
    "    imc_atual = peso / (altura * altura)\n",
    "\n",
    "    if imc_atual > valor_maior_imc:\n",
    "        valor_maior_imc = imc_atual\n",
    "    elif imc_atual < valor_menor_imc:\n",
    "        valor_menor_imc = imc_atual\n",
    "    else:\n",
    "        valor_menor_imc = imc_atual\n",
    "    \n",
    "    media_altura += altura\n",
    "    media_imc += imc_atual\n",
    "    media_peso += peso\n",
    "\n",
    "media_peso = media_peso/5\n",
    "media_altura = media_altura/5\n",
    "\n",
    "print(\"Média de peso: \", media_peso)\n",
    "print(\"Média de altura: \", media_altura)\n",
    "print(\"Maior e menor IMCs: \", valor_maior_imc, valor_menor_imc)"
   ]
  },
  {
   "cell_type": "markdown",
   "metadata": {},
   "source": [
    "3. Faça um programa que receba um número inteiro x. Calcule e mostre o fatorial desse número (x!)."
   ]
  },
  {
   "cell_type": "code",
   "execution_count": 35,
   "metadata": {},
   "outputs": [
    {
     "name": "stdout",
     "output_type": "stream",
     "text": [
      "24\n"
     ]
    }
   ],
   "source": [
    "x = int(input(\"Digite um número: \"))\n",
    "fat = 1\n",
    "\n",
    "while(x > 0):\n",
    "    fat *= x\n",
    "    x -= 1\n",
    "\n",
    "print(fat)"
   ]
  },
  {
   "cell_type": "markdown",
   "metadata": {},
   "source": [
    "4. Faça um programa que calcule os 10 primeiros números da sequencia de Fibonacci"
   ]
  },
  {
   "cell_type": "code",
   "execution_count": 45,
   "metadata": {},
   "outputs": [
    {
     "name": "stdout",
     "output_type": "stream",
     "text": [
      "0\n",
      "1\n",
      "1\n",
      "2\n",
      "3\n",
      "5\n",
      "8\n",
      "13\n",
      "21\n",
      "34\n"
     ]
    }
   ],
   "source": [
    "fib = 0\n",
    "suc = 1\n",
    "iteracoes = 10\n",
    "\n",
    "for i in range(iteracoes):\n",
    "    print(fib)\n",
    "    fib, suc = suc, fib + suc\n"
   ]
  },
  {
   "cell_type": "code",
   "execution_count": null,
   "metadata": {},
   "outputs": [],
   "source": []
  }
 ],
 "metadata": {
  "kernelspec": {
   "display_name": "Python 3 (ipykernel)",
   "language": "python",
   "name": "python3"
  },
  "language_info": {
   "codemirror_mode": {
    "name": "ipython",
    "version": 3
   },
   "file_extension": ".py",
   "mimetype": "text/x-python",
   "name": "python",
   "nbconvert_exporter": "python",
   "pygments_lexer": "ipython3",
   "version": "3.12.4"
  }
 },
 "nbformat": 4,
 "nbformat_minor": 2
}
